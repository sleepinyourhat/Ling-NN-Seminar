{
 "cells": [
  {
   "cell_type": "markdown",
   "metadata": {},
   "source": [
    "# Week 13: Inspecting gradients for the GRU-pair SNLI model"
   ]
  },
  {
   "cell_type": "markdown",
   "metadata": {},
   "source": [
    "In this assignment we'll inspect a GRU RNN-based model for SNLI."
   ]
  },
  {
   "cell_type": "markdown",
   "metadata": {},
   "source": [
    "## Setup"
   ]
  },
  {
   "cell_type": "markdown",
   "metadata": {},
   "source": [
    "You'll need to download and unzip SNLI, which you can find [here](http://nlp.stanford.edu/projects/snli/). Set `snli_home` below to point to it. The following block of code loads it."
   ]
  },
  {
   "cell_type": "code",
   "execution_count": 4,
   "metadata": {
    "collapsed": false
   },
   "outputs": [],
   "source": [
    "snli_home = '../snli_1.0'\n",
    "\n",
    "import re\n",
    "import random\n",
    "import json\n",
    "\n",
    "LABEL_MAP = {\n",
    "    \"entailment\": 0,\n",
    "    \"neutral\": 1,\n",
    "    \"contradiction\": 2\n",
    "}\n",
    "\n",
    "def load_snli_data(path):\n",
    "    data = []\n",
    "    with open(path) as f:\n",
    "        for line in f:\n",
    "            loaded_example = json.loads(line)\n",
    "            if loaded_example[\"gold_label\"] not in LABEL_MAP:\n",
    "                continue\n",
    "            loaded_example[\"label\"] = LABEL_MAP[loaded_example[\"gold_label\"]]\n",
    "            data.append(loaded_example)\n",
    "        random.seed(1)\n",
    "        random.shuffle(data)\n",
    "    return data\n",
    "     \n",
    "training_set = load_snli_data(snli_home + '/snli_1.0_train.jsonl')\n",
    "dev_set = load_snli_data(snli_home + '/snli_1.0_dev.jsonl')\n",
    "test_set = load_snli_data(snli_home + '/snli_1.0_test.jsonl')\n",
    "\n",
    "# Note: Unlike with k-nearest neighbors, evaluation here should be fast, and we don't need to\n",
    "# trim down the dev and test sets. "
   ]
  },
  {
   "cell_type": "markdown",
   "metadata": {},
   "source": [
    "Next, we'll convert the data to index vectors in the same way that we've done for in-class exercises with RNN-based sentiment models. A few notes:\n",
    "\n",
    "- We use a sequence length of only 10, which is short enough that we're truncating a large fraction of sentences.\n",
    "- Tokenization is easy here because we're relying on the output of a parser (which does tokenization as part of parsing), just as with the SST corpus that we've been using until now. Note that we use the 'sentence1_binary_parse' field of each example rather than the human-readable 'sentence1'.\n",
    "- We're using a moderately large vocabulary (for a class exercise) of about 12k words."
   ]
  },
  {
   "cell_type": "code",
   "execution_count": 5,
   "metadata": {
    "collapsed": false
   },
   "outputs": [],
   "source": [
    "SEQ_LEN = 10\n",
    "\n",
    "import collections\n",
    "import numpy as np\n",
    "\n",
    "def sentences_to_padded_index_sequences(datasets):\n",
    "    '''Annotates datasets with feature vectors.'''\n",
    "    \n",
    "    PADDING = \"<PAD>\"\n",
    "    UNKNOWN = \"<UNK>\"\n",
    "    \n",
    "    # Extract vocabulary\n",
    "    def tokenize(string):\n",
    "        string = re.sub(r'\\(|\\)', '', string)\n",
    "        return string.lower().split()\n",
    "    \n",
    "    word_counter = collections.Counter()\n",
    "    for example in datasets[0]:\n",
    "        word_counter.update(tokenize(example['sentence1_binary_parse']))\n",
    "        word_counter.update(tokenize(example['sentence2_binary_parse']))\n",
    "        \n",
    "    vocabulary = set([word for word in word_counter if word_counter[word] > 10])\n",
    "    vocabulary = list(vocabulary)\n",
    "    vocabulary = [PADDING, UNKNOWN] + vocabulary\n",
    "        \n",
    "    word_indices = dict(zip(vocabulary, range(len(vocabulary))))\n",
    "    indices_to_words = {v: k for k, v in word_indices.items()}\n",
    "        \n",
    "    for i, dataset in enumerate(datasets):\n",
    "        for example in dataset:\n",
    "            for sentence in ['sentence1_binary_parse', 'sentence2_binary_parse']:\n",
    "                example[sentence + '_index_sequence'] = np.zeros((SEQ_LEN), dtype=np.int32)\n",
    "\n",
    "                token_sequence = tokenize(example[sentence])\n",
    "                padding = SEQ_LEN - len(token_sequence)\n",
    "\n",
    "                for i in range(SEQ_LEN):\n",
    "                    if i >= padding:\n",
    "                        if token_sequence[i - padding] in word_indices:\n",
    "                            index = word_indices[token_sequence[i - padding]]\n",
    "                        else:\n",
    "                            index = word_indices[UNKNOWN]\n",
    "                    else:\n",
    "                        index = word_indices[PADDING]\n",
    "                    example[sentence + '_index_sequence'][i] = index\n",
    "    return indices_to_words, word_indices\n",
    "    \n",
    "indices_to_words, word_indices = sentences_to_padded_index_sequences([training_set, dev_set, test_set])"
   ]
  },
  {
   "cell_type": "code",
   "execution_count": 6,
   "metadata": {
    "collapsed": false
   },
   "outputs": [
    {
     "name": "stdout",
     "output_type": "stream",
     "text": [
      "{u'annotator_labels': [u'contradiction'], u'sentence2_parse': u'(ROOT (NP (NP (NNS People)) (PP (IN on) (NP (DT a) (NN bike))) (PP (IN on) (NP (DT a) (NN beach))) (. .)))', u'sentence1_binary_parse': u'( ( Five men ) ( ( are ( ( ( playing ( musical instruments ) ) together ) ( on ( a stage ) ) ) ) . ) )', u'captionID': u'2430018178.jpg#1', 'sentence1_binary_parse_index_sequence': array([ 6060, 11028,  7751,  3574, 10502,  3750, 10482,  4668,  2910,   472], dtype=int32), 'label': 2, u'sentence2_binary_parse': u'( ( ( People ( on ( a bike ) ) ) ( on ( a beach ) ) ) . )', u'pairID': u'2430018178.jpg#1r1c', u'sentence2': u'People on a bike on a beach.', u'sentence1_parse': u'(ROOT (S (NP (CD Five) (NNS men)) (VP (VBP are) (VP (VBG playing) (NP (JJ musical) (NNS instruments)) (ADVP (RB together)) (PP (IN on) (NP (DT a) (NN stage))))) (. .)))', 'sentence2_binary_parse_index_sequence': array([    0,     0,   592, 10482,  4668,  3030, 10482,  4668,  3180,   472], dtype=int32), u'gold_label': u'contradiction', u'sentence1': u'Five men are playing musical instruments together on a stage.'}\n",
      "12089\n"
     ]
    }
   ],
   "source": [
    "print training_set[6]\n",
    "print len(word_indices)"
   ]
  },
  {
   "cell_type": "markdown",
   "metadata": {},
   "source": [
    "Now we load GloVe. You'll need the same file that you used for the in-class exercise on word embeddings."
   ]
  },
  {
   "cell_type": "code",
   "execution_count": 7,
   "metadata": {
    "collapsed": false
   },
   "outputs": [],
   "source": [
    "glove_home = '../'\n",
    "words_to_load = 25000\n",
    "\n",
    "with open(glove_home + 'glove.6B.50d.txt') as f:\n",
    "    loaded_embeddings = np.zeros((len(word_indices), 50), dtype='float32')\n",
    "    for i, line in enumerate(f):\n",
    "        if i >= words_to_load: \n",
    "            break\n",
    "        \n",
    "        s = line.split()\n",
    "        if s[0] in word_indices:\n",
    "            loaded_embeddings[word_indices[s[0]], :] = np.asarray(s[1:])"
   ]
  },
  {
   "cell_type": "markdown",
   "metadata": {},
   "source": [
    "Now we set up an evaluation function as before."
   ]
  },
  {
   "cell_type": "code",
   "execution_count": 8,
   "metadata": {
    "collapsed": false
   },
   "outputs": [],
   "source": [
    "def evaluate_classifier(classifier, eval_set):\n",
    "    correct = 0\n",
    "    hypotheses = classifier(eval_set)\n",
    "    for i, example in enumerate(eval_set):\n",
    "        hypothesis = hypotheses[i]\n",
    "        if hypothesis == example['label']:\n",
    "            correct += 1        \n",
    "    return correct / float(len(eval_set))"
   ]
  },
  {
   "cell_type": "markdown",
   "metadata": {},
   "source": [
    "## Running the model"
   ]
  },
  {
   "cell_type": "markdown",
   "metadata": {},
   "source": [
    "This model is a slightly modified verison of the one I had you build for HW5. It is somewhat smaller, and the word embeddings that we use are now treated as member variables (`self.premise_embs` and `self.hypothesis_embs`) so we can access them later. \n",
    "\n",
    "You shouldn't need to edit it—just go ahead and run it for a few epochs."
   ]
  },
  {
   "cell_type": "code",
   "execution_count": 126,
   "metadata": {
    "collapsed": true
   },
   "outputs": [],
   "source": [
    "import tensorflow as tf"
   ]
  },
  {
   "cell_type": "code",
   "execution_count": 48,
   "metadata": {
    "collapsed": false
   },
   "outputs": [],
   "source": [
    "class RNNEntailmentClassifier:\n",
    "    def __init__(self, vocab_size, sequence_length):\n",
    "        # Define the hyperparameters\n",
    "        self.learning_rate = 1.0  # Should be about right\n",
    "        self.training_epochs = 5  # How long to train for - chosen to fit within class time\n",
    "        self.display_epoch_freq = 1  # How often to test and print out statistics\n",
    "        self.dim = 16  # The dimension of the hidden state of the RNN\n",
    "        self.combination_dim = 16  # The dimension of the hidden state of the combination layer\n",
    "        self.embedding_dim = 50  # The dimension of the learned word embeddings\n",
    "        self.batch_size = 128  # Somewhat arbitrary - can be tuned, but often tune for speed, not accuracy\n",
    "        self.vocab_size = vocab_size  # Defined by the file reader above\n",
    "        self.sequence_length = sequence_length  # Defined by the file reader above\n",
    "        \n",
    "        # Define the parameters\n",
    "        self.E = tf.Variable(loaded_embeddings)\n",
    "        \n",
    "        self.W_rnn = tf.Variable(tf.random_normal([self.embedding_dim + self.dim, self.dim], stddev=0.1))\n",
    "        self.b_rnn = tf.Variable(tf.random_normal([self.dim], stddev=0.1))\n",
    "        \n",
    "        self.W_r = tf.Variable(tf.random_normal([self.embedding_dim + self.dim, self.dim], stddev=0.1))\n",
    "        self.b_r = tf.Variable(tf.random_normal([self.dim], stddev=0.1))\n",
    "        \n",
    "        self.W_z = tf.Variable(tf.random_normal([self.embedding_dim + self.dim, self.dim], stddev=0.1))\n",
    "        self.b_z = tf.Variable(tf.random_normal([self.dim], stddev=0.1))\n",
    "        \n",
    "        self.W_comb = tf.Variable(tf.random_normal([4 * self.dim, self.combination_dim], stddev=0.1))\n",
    "        self.b_comb = tf.Variable(tf.random_normal([self.combination_dim], stddev=0.1))\n",
    "        \n",
    "        self.W_cl = tf.Variable(tf.random_normal([self.combination_dim, 3], stddev=0.1))\n",
    "        self.b_cl = tf.Variable(tf.random_normal([3], stddev=0.1))\n",
    "        \n",
    "        # Define the placeholders\n",
    "        self.premise_x = tf.placeholder(tf.int32, [None, self.sequence_length])\n",
    "        self.hypothesis_x = tf.placeholder(tf.int32, [None, self.sequence_length])\n",
    "        self.y = tf.placeholder(tf.int32, [None])\n",
    "        \n",
    "        # Define one step of the RNN\n",
    "        def step(x, h_prev):\n",
    "            emb = tf.nn.embedding_lookup(self.E, x)\n",
    "            emb_h_prev = tf.concat(1, [emb, h_prev])\n",
    "            z = tf.nn.sigmoid(tf.matmul(emb_h_prev, self.W_z)  + self.b_z)\n",
    "            r = tf.nn.sigmoid(tf.matmul(emb_h_prev, self.W_r)  + self.b_r)\n",
    "            emb_r_h_prev = tf.concat(1, [emb, r * h_prev])\n",
    "            h_tilde = tf.nn.tanh(tf.matmul(emb_r_h_prev, self.W_rnn)  + self.b_rnn)\n",
    "            h = (1. - z) * h_prev + z * h_tilde\n",
    "            return h, emb\n",
    "\n",
    "        # Split up the inputs into individual tensors\n",
    "        self.x_premise_slices = tf.split(1, self.sequence_length, self.premise_x)\n",
    "        self.x_hypothesis_slices = tf.split(1, self.sequence_length, self.hypothesis_x)\n",
    "        \n",
    "        self.h_zero = tf.zeros(tf.pack([tf.shape(self.premise_x)[0], self.dim]))\n",
    "        \n",
    "        # Unroll the first RNN\n",
    "        h_prev_premise = self.h_zero\n",
    "        self.premise_embs = []\n",
    "        for t in range(self.sequence_length):\n",
    "            x_t = tf.reshape(self.x_premise_slices[t], [-1])\n",
    "            h_prev_premise, emb = step(x_t, h_prev_premise)\n",
    "            self.premise_embs.append(emb)\n",
    "        self.premise_vector = h_prev_premise\n",
    "        \n",
    "        # Unroll the second RNN\n",
    "        h_prev_hypothesis = self.h_zero\n",
    "        self.hypothesis_embs = []\n",
    "        for t in range(self.sequence_length):\n",
    "            x_t = tf.reshape(self.x_hypothesis_slices[t], [-1])\n",
    "            h_prev_hypothesis, emb = step(x_t, h_prev_hypothesis)\n",
    "            self.hypothesis_embs.append(emb)\n",
    "        self.hypothesis_vector = h_prev_hypothesis     \n",
    "            \n",
    "        # Compute a penultimate ReLU layer\n",
    "        pair_features = tf.concat(1, [self.premise_vector,\n",
    "                                      self.hypothesis_vector, \n",
    "                                      self.premise_vector * self.hypothesis_vector,\n",
    "                                      self.premise_vector - self.hypothesis_vector])\n",
    "        combination_layer = tf.nn.relu(tf.matmul(pair_features, self.W_comb) + self.b_comb)    \n",
    "        \n",
    "        # Compute the logits\n",
    "        self.logits = tf.matmul(combination_layer, self.W_cl) + self.b_cl\n",
    "        \n",
    "        # Define the cost function (here, the softmax exp and sum are built in)\n",
    "        self.total_cost = tf.reduce_mean(tf.nn.sparse_softmax_cross_entropy_with_logits(self.logits, self.y))\n",
    "        \n",
    "        # This  performs the main SGD update equation with gradient clipping\n",
    "        optimizer_obj = tf.train.GradientDescentOptimizer(learning_rate=self.learning_rate)\n",
    "        gvs = optimizer_obj.compute_gradients(self.total_cost)\n",
    "        capped_gvs = [(tf.clip_by_norm(grad, 5.0), var) for grad, var in gvs if grad is not None]\n",
    "        self.optimizer = optimizer_obj.apply_gradients(capped_gvs)\n",
    "        \n",
    "        # Create an operation to fill zero values in for W and b\n",
    "        self.init = tf.initialize_all_variables()\n",
    "        \n",
    "        # Create a placeholder for the session that will be shared between training and evaluation\n",
    "        self.sess = None\n",
    "        \n",
    "    def train(self, training_data, dev_data):\n",
    "        def get_minibatch(dataset, start_index, end_index):\n",
    "            indices = range(start_index, end_index)\n",
    "            premise_vectors = np.vstack([dataset[i]['sentence1_binary_parse_index_sequence'] for i in indices])\n",
    "            hypothesis_vectors = np.vstack([dataset[i]['sentence2_binary_parse_index_sequence'] for i in indices])\n",
    "            labels = [dataset[i]['label'] for i in indices]\n",
    "            return premise_vectors, hypothesis_vectors, labels\n",
    "        \n",
    "        self.sess = tf.Session()\n",
    "        \n",
    "        self.sess.run(self.init)\n",
    "        print 'Training.'\n",
    "\n",
    "        # Training cycle\n",
    "        for epoch in range(self.training_epochs):\n",
    "            random.shuffle(training_data)\n",
    "            avg_cost = 0.\n",
    "            total_batch = int(len(training_data) / self.batch_size)\n",
    "            \n",
    "            # Loop over all batches in epoch\n",
    "            for i in range(total_batch):\n",
    "                # Assemble a minibatch of the next B examples\n",
    "                minibatch_premise_vectors, minibatch_hypothesis_vectors, minibatch_labels = get_minibatch(\n",
    "                    training_data, self.batch_size * i, self.batch_size * (i + 1))\n",
    "\n",
    "                # Run the optimizer to take a gradient step, and also fetch the value of the \n",
    "                # cost function for logging\n",
    "                _, c = self.sess.run([self.optimizer, self.total_cost], \n",
    "                                     feed_dict={self.premise_x: minibatch_premise_vectors,\n",
    "                                                self.hypothesis_x: minibatch_hypothesis_vectors,\n",
    "                                                self.y: minibatch_labels})\n",
    "                                                                    \n",
    "                # Compute average loss\n",
    "                avg_cost += c / (total_batch * self.batch_size)\n",
    "                                \n",
    "            # Display some statistics about the step\n",
    "            # Evaluating only one batch worth of data -- simplifies implementation slightly\n",
    "            if (epoch+1) % self.display_epoch_freq == 0:\n",
    "                print \"Epoch:\", (epoch+1), \"Cost:\", avg_cost, \\\n",
    "                    \"Dev acc:\", evaluate_classifier(self.classify, dev_data[0:1000]), \\\n",
    "                    \"Train acc:\", evaluate_classifier(self.classify, training_data[0:1000])  \n",
    "    \n",
    "    def classify(self, examples):\n",
    "        # This classifies a list of examples\n",
    "        premise_vectors = np.vstack([example['sentence1_binary_parse_index_sequence'] for example in examples])\n",
    "        hypothesis_vectors = np.vstack([example['sentence2_binary_parse_index_sequence'] for example in examples])\n",
    "        logits = self.sess.run(self.logits, feed_dict={self.premise_x: premise_vectors,\n",
    "                                                       self.hypothesis_x: hypothesis_vectors})\n",
    "        return np.argmax(logits, axis=1)"
   ]
  },
  {
   "cell_type": "code",
   "execution_count": 125,
   "metadata": {
    "collapsed": false
   },
   "outputs": [
    {
     "name": "stdout",
     "output_type": "stream",
     "text": [
      "Training.\n",
      "Epoch: 1 Cost: 0.00644026323795 Dev acc: 0.684 Train acc: 0.7\n",
      "Epoch: 2 Cost: 0.00578054066813 Dev acc: 0.7 Train acc: 0.696\n",
      "Epoch: 3 Cost: 0.00557528612269 Dev acc: 0.711 Train acc: 0.706\n",
      "Epoch: 4 Cost: 0.00544255647725 Dev acc: 0.712 Train acc: 0.734\n",
      "Epoch: 5 Cost: 0.00534028364337 Dev acc: 0.724 Train acc: 0.746\n",
      "Epoch: 6 Cost: 0.00526071439353 Dev acc: 0.718 Train acc: 0.728\n",
      "Epoch: 7 Cost: 0.00518535144019 Dev acc: 0.724 Train acc: 0.724\n",
      "Epoch: 8 Cost: 0.00512403935465 Dev acc: 0.726 Train acc: 0.751\n"
     ]
    }
   ],
   "source": [
    "classifier = RNNEntailmentClassifier(len(word_indices), SEQ_LEN)\n",
    "classifier.train(training_set, dev_set)"
   ]
  },
  {
   "cell_type": "code",
   "execution_count": 127,
   "metadata": {
    "collapsed": false
   },
   "outputs": [],
   "source": [
    "%matplotlib inline\n",
    "import matplotlib.pyplot as plt"
   ]
  },
  {
   "cell_type": "markdown",
   "metadata": {},
   "source": [
    "Now we extract the L1 norms (sums of absolute values) for the gradients to each of the premise word embeddings and each of the hypothesis word embeddings.\n",
    "\n",
    "Just to make object-oriented programming adherents uncomfortable (and to make debugging faster), we'll be working outside of any class or method, but we will be referencing internal state for the classifier, like classifier.sess and classifier.premise_embs."
   ]
  },
  {
   "cell_type": "code",
   "execution_count": 128,
   "metadata": {
    "collapsed": true
   },
   "outputs": [],
   "source": [
    "# Set up a minibatch to visualize\n",
    "examples = dev_set[0:4]\n",
    "premise_vectors = np.vstack([example['sentence1_binary_parse_index_sequence'] for example in examples])\n",
    "hypothesis_vectors = np.vstack([example['sentence2_binary_parse_index_sequence'] for example in examples])\n",
    "labels = [example['label'] for example in examples]"
   ]
  },
  {
   "cell_type": "code",
   "execution_count": 129,
   "metadata": {
    "collapsed": false
   },
   "outputs": [],
   "source": [
    "# Define the TF objects corresponding to the gradient magnitudes that we want to show\n",
    "premise_gradient_norms = []\n",
    "hypothesis_gradient_norms = []\n",
    "\n",
    "for i in range(10):\n",
    "    # TODO: For each step of the premise model, create a TF vector of shape (?, ) that contains\n",
    "    #   one scalar for each batch entry. That scalar should be the sum of the absolute values of\n",
    "    #   the *gradients* of the word embedding used at the current step with respect to the cost \n",
    "    #   function. Append the result to premise_gradient_norms so the code below can display it \n",
    "    #   properly. You'll need tf.gradients().\n",
    "    \n",
    "for i in range(10):\n",
    "    # TODO: Do the same thing for the hypothesis model."
   ]
  },
  {
   "cell_type": "code",
   "execution_count": 130,
   "metadata": {
    "collapsed": false
   },
   "outputs": [],
   "source": [
    "# Use tf.run to get the magnitudes\n",
    "prem_gvs, hyp_gvs = classifier.sess.run([premise_gradient_norms, hypothesis_gradient_norms], \n",
    "                                        feed_dict={classifier.premise_x: premise_vectors,\n",
    "                                                   classifier.hypothesis_x: hypothesis_vectors,\n",
    "                                                   classifier.y: labels})"
   ]
  },
  {
   "cell_type": "code",
   "execution_count": 131,
   "metadata": {
    "collapsed": false
   },
   "outputs": [
    {
     "data": {
      "image/png": "[encoded data removed]",
      "text/plain": [
       "<matplotlib.figure.Figure at 0x2132e52d0>"
      ]
     },
     "metadata": {},
     "output_type": "display_data"
    },
    {
     "data": {
      "image/png": "[encoded data removed]",
      "text/plain": [
       "<matplotlib.figure.Figure at 0x122768ed0>"
      ]
     },
     "metadata": {},
     "output_type": "display_data"
    },
    {
     "data": {
      "image/png": "[encoded data removed]",
      "text/plain": [
       "<matplotlib.figure.Figure at 0x122859410>"
      ]
     },
     "metadata": {},
     "output_type": "display_data"
    },
    {
     "data": {
      "image/png": "[encoded data removed]",
      "text/plain": [
       "<matplotlib.figure.Figure at 0x1eda2ce50>"
      ]
     },
     "metadata": {},
     "output_type": "display_data"
    }
   ],
   "source": [
    "# Display the magnitudes\n",
    "prem_gvs = np.vstack(prem_gvs)\n",
    "hyp_gvs = np.vstack(hyp_gvs)\n",
    "for i in range(len(examples)):    \n",
    "    fig = plt.figure()\n",
    "    ax1 = fig.add_subplot(211)\n",
    "    ax2 = fig.add_subplot(212)\n",
    "\n",
    "    ax1.matshow([prem_gvs[:, i]], cmap=plt.cm.inferno)\n",
    "    ax2.matshow([hyp_gvs[:, i]], cmap=plt.cm.inferno)\n",
    "\n",
    "    premise_tokens = [indices_to_words[index] for index in examples[i]['sentence1_binary_parse_index_sequence']]\n",
    "    hypothesis_tokens = [indices_to_words[index] for index in examples[i]['sentence2_binary_parse_index_sequence']]\n",
    "\n",
    "    ax1.set_xticklabels(premise_tokens, rotation=45)\n",
    "    ax2.set_xticklabels(hypothesis_tokens, rotation=45)\n",
    "    ax1.set_yticklabels([None, 'P'])\n",
    "    ax2.set_yticklabels([None, 'H'])\n",
    "\n",
    "    ax1.set_xticks(np.arange(0, 10, 1.0))\n",
    "    ax2.set_xticks(np.arange(0, 10, 1.0))\n",
    "    ax1.set_xticks(np.arange(0, 10, 1.0))\n",
    "    ax2.set_xticks(np.arange(0, 10, 1.0))"
   ]
  }
 ],
 "metadata": {
  "kernelspec": {
   "display_name": "Python 2",
   "language": "python",
   "name": "python2"
  },
  "language_info": {
   "codemirror_mode": {
    "name": "ipython",
    "version": 2
   },
   "file_extension": ".py",
   "mimetype": "text/x-python",
   "name": "python",
   "nbconvert_exporter": "python",
   "pygments_lexer": "ipython2",
   "version": "2.7.10"
  }
 },
 "nbformat": 4,
 "nbformat_minor": 0
}
